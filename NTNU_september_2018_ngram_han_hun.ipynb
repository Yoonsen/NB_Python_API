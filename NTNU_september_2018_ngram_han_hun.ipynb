{
 "cells": [
  {
   "cell_type": "markdown",
   "metadata": {},
   "source": [
    "# En analyse av ngrammer\n",
    "\n",
    "Her skal vi se litt på hva som brukes i analyse av tekster og det som trengs av formelle begreper. Temaet er kjønn og Beauvoirs tese om at kvinnen er et sekundært kjønn, og at menn og kvinner er knyttet til forskjellige egenskaper. "
   ]
  },
  {
   "cell_type": "markdown",
   "metadata": {},
   "source": [
    "Start med å importere de kommandoene som trengs fra nbtext"
   ]
  },
  {
   "cell_type": "code",
   "execution_count": null,
   "metadata": {},
   "outputs": [],
   "source": [
    "import nbtext as nb\n",
    "%matplotlib inline"
   ]
  },
  {
   "cell_type": "markdown",
   "metadata": {},
   "source": [
    "### Lag ngram for et sett pronomen\n",
    "\n",
    "Bruk kommandoen nb_ngram() for hente ngrammer, de samme som ligger på web."
   ]
  },
  {
   "cell_type": "code",
   "execution_count": null,
   "metadata": {},
   "outputs": [],
   "source": [
    "pron = nb.nb_ngram('han,hun, henne, ham, hans, hennes', years=(1980,2000), smooth=1)"
   ]
  },
  {
   "cell_type": "markdown",
   "metadata": {},
   "source": [
    "## Resultatet er en dataramme\n",
    "\n",
    "Datarammer brukes flittig i alt fra ngrammer til tekstanalyse. Matrisene er en måte å representere kvantitative språklige data.\n",
    "\n",
    "Når en navn er knyttet til data, er det bare å skrive navnet i en celle for å se verdien."
   ]
  },
  {
   "cell_type": "code",
   "execution_count": null,
   "metadata": {},
   "outputs": [],
   "source": [
    "pron"
   ]
  },
  {
   "cell_type": "markdown",
   "metadata": {},
   "source": [
    "## Matrisen kan begrenses til mindre biter\n",
    "\n",
    "Matrisene kan deles opp i mindre biter"
   ]
  },
  {
   "cell_type": "code",
   "execution_count": null,
   "metadata": {},
   "outputs": [],
   "source": [
    "pron[['han', 'hun']]"
   ]
  },
  {
   "cell_type": "markdown",
   "metadata": {},
   "source": [
    "## Plotting gir et kjapt visuelt overblikk\n",
    "\n",
    "Matriser med tall kan plottes over indeksene ved å legget plot() til navnet."
   ]
  },
  {
   "cell_type": "code",
   "execution_count": null,
   "metadata": {},
   "outputs": [],
   "source": [
    "pron.plot();"
   ]
  },
  {
   "cell_type": "markdown",
   "metadata": {},
   "source": [
    "Størrelsen på plottet kan endres"
   ]
  },
  {
   "cell_type": "code",
   "execution_count": null,
   "metadata": {},
   "outputs": [],
   "source": [
    "pron.plot(figsize=(10,5));"
   ]
  },
  {
   "cell_type": "markdown",
   "metadata": {},
   "source": [
    "# Men hva med analyse? "
   ]
  },
  {
   "cell_type": "markdown",
   "metadata": {},
   "source": [
    "## Ordene kan divideres ved å refere til matrisen og kolonnene\n",
    "\n",
    "Poenget med datarammer/matriser er at fra dataene kan vi beregne nye data, for eksemple forholdstallet mellom 'han' og 'hun' fordelt over år."
   ]
  },
  {
   "cell_type": "code",
   "execution_count": null,
   "metadata": {},
   "outputs": [],
   "source": [
    "pron['han']/pron['hun']"
   ]
  },
  {
   "cell_type": "markdown",
   "metadata": {},
   "source": [
    "### Lag ramme fra noe som ligner, men som ikke er det\n",
    "Bruk kommandoen frame() for å lage en ny ramme av ratioen, den tar to argument, det første er det som skal bli en ramme, og det andre er navnet på rammen. Navn er viktig når rammer skal kombineres, som i neste celle.\n"
   ]
  },
  {
   "cell_type": "code",
   "execution_count": null,
   "metadata": {},
   "outputs": [],
   "source": [
    "nb.frame(pron['han']/pron['hun'], 'han/hun')"
   ]
  },
  {
   "cell_type": "markdown",
   "metadata": {},
   "source": [
    "### Forholdstallene kan kombineres og plottes på nytt\n",
    "\n",
    "\n",
    "Uttrykket under kan se litt formidabelt ut, men vi skal gå gjennom og ta det fra hverandre."
   ]
  },
  {
   "cell_type": "code",
   "execution_count": null,
   "metadata": {},
   "outputs": [],
   "source": [
    "nb.frame(pron['han']/pron['hun'], 'han/hun').join(\n",
    "nb.frame(pron['ham']/pron['henne'], 'ham/henne'). join(\n",
    "nb.frame(pron['hans']/pron['hennes'], 'hans/hennes'))).plot()"
   ]
  },
  {
   "cell_type": "markdown",
   "metadata": {},
   "source": [
    "## Hva med \"ham\" vs \"han\" som objekt?\n",
    "\n",
    "Hvordan kan vi finne ut om pronomenet 'han' også brukes som objekt, og hvor ofte? I norsk har det vært frivillig å bruke 'han' som objekt. Forekomsten kan sjekkes ved å se på trigram som presser frem en objektstolkning av 'han'. Her skal vi teste mot trigrammer av typen \"preposisjon han .\", som skulle sikre oss at 'han' er objekt for preposisjonen."
   ]
  },
  {
   "cell_type": "code",
   "execution_count": null,
   "metadata": {},
   "outputs": [],
   "source": [
    "obj = nb.nb_ngram(\"med ham ., med han ., til han ., til ham ., ved han ., ved ham .\", years=(1980, 2000), smooth=1)"
   ]
  },
  {
   "cell_type": "code",
   "execution_count": null,
   "metadata": {},
   "outputs": [],
   "source": [
    "obj.plot()"
   ]
  },
  {
   "cell_type": "code",
   "execution_count": null,
   "metadata": {},
   "outputs": [],
   "source": [
    "nb.frame(obj['med ham .']/obj['med han .'], 'med').join(\n",
    "nb.frame(obj['til ham .']/obj['til han .'], 'til'). join(\n",
    "nb.frame(obj['ved ham .']/obj['ved han .'], 'ved'))).plot();"
   ]
  },
  {
   "cell_type": "markdown",
   "metadata": {},
   "source": [
    "Variasjonen ligger mellom 5 og 10, så omtrent hvert 7nde"
   ]
  },
  {
   "cell_type": "code",
   "execution_count": null,
   "metadata": {},
   "outputs": [],
   "source": [
    "nb.frame(obj['med ham .']/obj['med han .'], 'med').join(\n",
    "nb.frame(obj['til ham .']/obj['til han .'], 'til'). join(\n",
    "nb.frame(obj['ved ham .']/obj['ved han .'], 'ved'))).mean()"
   ]
  },
  {
   "cell_type": "code",
   "execution_count": null,
   "metadata": {},
   "outputs": [],
   "source": [
    "obj2 = nb.nb_ngram('til ham, til han', years=(1980, 2000),smooth=1)"
   ]
  },
  {
   "cell_type": "code",
   "execution_count": null,
   "metadata": {},
   "outputs": [],
   "source": [
    "obj2.plot()"
   ]
  },
  {
   "cell_type": "code",
   "execution_count": null,
   "metadata": {},
   "outputs": [],
   "source": [
    "nb.frame((pron['han'] - pron['ham']*0.15)/pron['hun'], 'han/hun').join(\n",
    "nb.frame((pron['ham'] + pron['ham']*0.15)/pron['henne'], 'ham/henne'). join(\n",
    "nb.frame(pron['hans']/pron['hennes'], 'hans/hennes'))).plot(title='justert for hver 7nde');\n",
    "nb.frame(pron['han']/pron['hun'], 'han/hun').join(\n",
    "nb.frame(pron['ham']/pron['henne'], 'ham/henne'). join(\n",
    "nb.frame(pron['hans']/pron['hennes'], 'hans/hennes'))).plot(title='uten justering');"
   ]
  },
  {
   "cell_type": "markdown",
   "metadata": {},
   "source": [
    "# Hva med verb og kjønn?\n",
    "\n",
    "Her nøyer vi oss med å se på plottene."
   ]
  },
  {
   "cell_type": "code",
   "execution_count": null,
   "metadata": {},
   "outputs": [],
   "source": [
    "nb.nb_ngram(\"hun fniser, han fniser\", years=(1980, 2000), smooth=1).plot(figsize=(10,5));"
   ]
  },
  {
   "cell_type": "code",
   "execution_count": null,
   "metadata": {},
   "outputs": [],
   "source": [
    "nb.nb_ngram(\"hun hevder, han hevder\", years=(1980, 2000), smooth=1).plot(figsize=(10,5));"
   ]
  },
  {
   "cell_type": "code",
   "execution_count": null,
   "metadata": {},
   "outputs": [],
   "source": [
    "nb.nb_ngram(\"hun gråter, han gråter\", years=(1980, 2000), smooth=1).plot(figsize=(10,5));"
   ]
  },
  {
   "cell_type": "code",
   "execution_count": null,
   "metadata": {},
   "outputs": [],
   "source": [
    "nb.nb_ngram(\"hun skjøt, han skjøt\", years=(1980, 2000), smooth=1).plot(figsize=(10,5));"
   ]
  },
  {
   "cell_type": "markdown",
   "metadata": {},
   "source": [
    "Når blå ligger høyere, er det lurt å sjekke om verbene trekker mot det mannlige eller det kvinnelige"
   ]
  },
  {
   "cell_type": "code",
   "execution_count": null,
   "metadata": {},
   "outputs": [],
   "source": [
    "nb.nb_ngram(\"hun føler, han føler\", years=(1980, 2000), smooth=1).plot(figsize=(10,5));"
   ]
  },
  {
   "cell_type": "code",
   "execution_count": null,
   "metadata": {},
   "outputs": [],
   "source": [
    "føler = nb.nb_ngram(\"hun føler, han føler\", years=(1980, 2000), smooth=1)"
   ]
  },
  {
   "cell_type": "code",
   "execution_count": null,
   "metadata": {},
   "outputs": [],
   "source": [
    "nb.frame(føler['han føler']/føler['hun føler'], 'føler').plot()"
   ]
  },
  {
   "cell_type": "code",
   "execution_count": null,
   "metadata": {},
   "outputs": [],
   "source": [
    "nb.frame((pron['han'] - pron['ham']*0.15)/pron['hun'], 'han/hun').join(\n",
    "    nb.frame(føler['han føler']/føler['hun føler'], 'føler')).plot()"
   ]
  },
  {
   "cell_type": "code",
   "execution_count": null,
   "metadata": {},
   "outputs": [],
   "source": [
    "skjøt = nb.nb_ngram(\"hun skjøt, han skjøt\", years=(1980, 2000), smooth=1)\n"
   ]
  },
  {
   "cell_type": "code",
   "execution_count": null,
   "metadata": {},
   "outputs": [],
   "source": [
    "nb.frame((pron['han'] - pron['ham']*0.15)/pron['hun'], 'han/hun').join(\n",
    "    nb.frame(skjøt['han skjøt']/skjøt['hun skjøt'], 'skjøt')).plot()"
   ]
  },
  {
   "cell_type": "markdown",
   "metadata": {},
   "source": [
    "# Oppgave\n",
    "\n",
    "Repeter øvelsen med avisdata"
   ]
  },
  {
   "cell_type": "code",
   "execution_count": null,
   "metadata": {},
   "outputs": [],
   "source": [
    "nb.nb_ngram('han, hun', corpus='avis', years=(1980,2000),smooth=1).plot()"
   ]
  }
 ],
 "metadata": {
  "hide_input": false,
  "kernelspec": {
   "display_name": "Python 3",
   "language": "python",
   "name": "python3"
  },
  "language_info": {
   "codemirror_mode": {
    "name": "ipython",
    "version": 3
   },
   "file_extension": ".py",
   "mimetype": "text/x-python",
   "name": "python",
   "nbconvert_exporter": "python",
   "pygments_lexer": "ipython3",
   "version": "3.6.4"
  }
 },
 "nbformat": 4,
 "nbformat_minor": 2
}
